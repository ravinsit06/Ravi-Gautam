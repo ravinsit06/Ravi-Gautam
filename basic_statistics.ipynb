{
  "nbformat": 4,
  "nbformat_minor": 0,
  "metadata": {
    "colab": {
      "name": "basic_statistics.ipynb",
      "provenance": [],
      "collapsed_sections": [],
      "toc_visible": true,
      "authorship_tag": "ABX9TyP3D0cWqAXeAwP6kvoFJL0g",
      "include_colab_link": true
    },
    "kernelspec": {
      "name": "python3",
      "display_name": "Python 3"
    }
  },
  "cells": [
    {
      "cell_type": "markdown",
      "metadata": {
        "id": "view-in-github",
        "colab_type": "text"
      },
      "source": [
        "<a href=\"https://colab.research.google.com/github/ravinsit06/Ravi-Gautam/blob/master/basic_statistics.ipynb\" target=\"_parent\"><img src=\"https://colab.research.google.com/assets/colab-badge.svg\" alt=\"Open In Colab\"/></a>"
      ]
    },
    {
      "cell_type": "code",
      "metadata": {
        "id": "jPyelh_14187"
      },
      "source": [
        "import math\r\n",
        "import statistics\r\n",
        "import numpy as np\r\n",
        "import pandas as pd\r\n",
        "import scipy.stats \r\n",
        "import matplotlib.pyplot\r\n",
        "# generate random integer values\r\n",
        "#from numpy.random import seed\r\n",
        "#from numpy.random import randint\r\n",
        "# seed random number generator\r\n",
        "#seed(1)\r\n",
        "# generate some integers\r\n",
        "values = np.random.randint(0, 100, 20)\r\n",
        "print(values)\r\n",
        "#X=np.arrang\r\n",
        "#w=values.mean\r\n",
        "#a = np.array([[1, 2, 3, 4], [5, 6, 7, 8], [9, 10, 11, 12]])\r\n",
        "#print (a[0])\r\n",
        "#print (a[1])\r\n",
        "#print(a[:,0])\r\n",
        "#c1=a[:,0]\r\n",
        "mean=statistics.mean(values)\r\n",
        "#mean2=np.mean(c1)\r\n",
        "print (mean)\r\n",
        "#mydata = pd.read_excel(\"/content/mydata/data.xlsx\")\r\n",
        "\r\n",
        "#age=pd.DataFrame(mydata, columns=['age'])\r\n",
        "#print (age)"
      ],
      "execution_count": null,
      "outputs": []
    },
    {
      "cell_type": "code",
      "metadata": {
        "colab": {
          "base_uri": "https://localhost:8080/"
        },
        "id": "y-sTHBTw_elT",
        "outputId": "6f393e19-a2fc-48df-c429-cedbaa135ae4"
      },
      "source": [
        "from google.colab import drive\n",
        "drive.mount('/content/drive')"
      ],
      "execution_count": null,
      "outputs": [
        {
          "output_type": "stream",
          "text": [
            "Drive already mounted at /content/drive; to attempt to forcibly remount, call drive.mount(\"/content/drive\", force_remount=True).\n"
          ],
          "name": "stdout"
        }
      ]
    },
    {
      "cell_type": "markdown",
      "metadata": {
        "id": "oaLb98HFAhXk"
      },
      "source": [
        "# New Section"
      ]
    }
  ]
}